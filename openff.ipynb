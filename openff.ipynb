{
 "cells": [
  {
   "cell_type": "code",
   "execution_count": 166,
   "id": "ac2ca141-5a23-4c55-9ae4-82bf4eb530c5",
   "metadata": {},
   "outputs": [],
   "source": [
    "# ! rm -rf data\n",
    "# ! rm -rf gro_files"
   ]
  },
  {
   "cell_type": "code",
   "execution_count": 145,
   "id": "c517383f-9a45-4e4b-8992-53933bf3569c",
   "metadata": {},
   "outputs": [],
   "source": [
    "from rdkit import Chem\n",
    "from openff.toolkit import Molecule, Topology, ForceField\n",
    "import os"
   ]
  },
  {
   "cell_type": "code",
   "execution_count": 161,
   "id": "e4c8ee65-a927-422f-90ff-0596a20faae6",
   "metadata": {},
   "outputs": [],
   "source": [
    "workpath = os.getcwd()\n",
    "os.mkdir('data')\n",
    "os.mkdir('gro_files')"
   ]
  },
  {
   "cell_type": "code",
   "execution_count": 162,
   "id": "b6a5b43b-267c-4477-93bc-5273b22528b5",
   "metadata": {},
   "outputs": [
    {
     "name": "stderr",
     "output_type": "stream",
     "text": [
      "  % Total    % Received % Xferd  Average Speed   Time    Time     Time  Current\n",
      "                                 Dload  Upload   Total   Spent    Left  Speed\n",
      "100  265k  100  265k    0     0   338k      0 --:--:-- --:--:-- --:--:--  340k\n"
     ]
    }
   ],
   "source": [
    "os.chdir('data')\n",
    "url = 'https://raw.githubusercontent.com/biocad/chemnext-trainee-test-case/main/openff_data/example.sdf'\n",
    "os.system(f'curl -o example.sdf {url}')\n",
    "os.chdir(workpath)"
   ]
  },
  {
   "cell_type": "code",
   "execution_count": null,
   "id": "7c23c538-2751-40c0-bf7e-8e662c80f095",
   "metadata": {
    "scrolled": true
   },
   "outputs": [],
   "source": [
    "ligs = [lig for lig in Chem.SDMolSupplier('data/example.sdf', removeHs=False)]\n",
    "names = [lig.GetProp('_Name') for lig in ligs]\n",
    "\n",
    "rdkit_molecules = {name:lig for name, lig in zip(names, ligs)}"
   ]
  },
  {
   "cell_type": "code",
   "execution_count": 164,
   "id": "428b62b1-c4ec-4478-9d54-a2bc42a2b1d2",
   "metadata": {},
   "outputs": [],
   "source": [
    "sage_ff14sb = ForceField(\"openff-2.1.0.offxml\", \"ff14sb_off_impropers_0.0.3.offxml\")\n",
    "\n",
    "for name, lig in rdkit_molecules.items():\n",
    "    os.mkdir(f'gro_files/{name}')\n",
    "    os.chdir(f'gro_files/{name}')\n",
    "    molecule = Molecule.from_rdkit(lig)\n",
    "    interchange = Interchange.from_smirnoff(topology=[molecule], force_field=sage_ff14sb)\n",
    "    interchange.to_gromacs(name)\n",
    "    os.chdir(workpath)"
   ]
  }
 ],
 "metadata": {
  "kernelspec": {
   "display_name": "openff-toolkit",
   "language": "python",
   "name": "openff-toolkit"
  },
  "language_info": {
   "codemirror_mode": {
    "name": "ipython",
    "version": 3
   },
   "file_extension": ".py",
   "mimetype": "text/x-python",
   "name": "python",
   "nbconvert_exporter": "python",
   "pygments_lexer": "ipython3",
   "version": "3.11.6"
  }
 },
 "nbformat": 4,
 "nbformat_minor": 5
}
